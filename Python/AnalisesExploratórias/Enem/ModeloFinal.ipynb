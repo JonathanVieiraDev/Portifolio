{
 "cells": [
  {
   "cell_type": "code",
   "execution_count": 1,
   "metadata": {},
   "outputs": [],
   "source": [
    "# Importando as bibliotecas\n",
    "import pandas as pd\n",
    "import numpy as np\n",
    "import matplotlib.pyplot as plt\n",
    "import seaborn as sns\n",
    "\n",
    "from sklearn.pipeline import Pipeline\n",
    "from sklearn.impute import SimpleImputer\n",
    "from sklearn.preprocessing import OneHotEncoder, OrdinalEncoder, MinMaxScaler, StandardScaler\n",
    "from sklearn.compose import ColumnTransformer\n",
    "from xgboost import XGBRegressor, XGBClassifier\n",
    "from sklearn.model_selection import train_test_split\n",
    "from xgboost import plot_importance\n",
    "from sklearn.metrics import mean_squared_error, mean_absolute_error\n",
    "from sklearn.model_selection import RandomizedSearchCV, KFold, cross_val_score\n",
    "from sklearn.inspection import permutation_importance\n",
    "\n",
    "%matplotlib inline"
   ]
  },
  {
   "cell_type": "code",
   "execution_count": 2,
   "metadata": {},
   "outputs": [],
   "source": [
    "# abrindo o arquivo de microdados do enem como dataframe usando o pandas\n",
    "dadosEnem = pd.read_csv(\"Dados/MICRODADOS_ENEM_2019.csv\", sep=\";\", encoding='ISO-8859-1')"
   ]
  },
  {
   "cell_type": "code",
   "execution_count": 3,
   "metadata": {},
   "outputs": [
    {
     "data": {
      "text/plain": [
       "(5095270, 136)"
      ]
     },
     "execution_count": 3,
     "metadata": {},
     "output_type": "execute_result"
    }
   ],
   "source": [
    "dadosEnem.shape"
   ]
  },
  {
   "cell_type": "code",
   "execution_count": 4,
   "metadata": {},
   "outputs": [
    {
     "data": {
      "text/html": [
       "<div>\n",
       "<style scoped>\n",
       "    .dataframe tbody tr th:only-of-type {\n",
       "        vertical-align: middle;\n",
       "    }\n",
       "\n",
       "    .dataframe tbody tr th {\n",
       "        vertical-align: top;\n",
       "    }\n",
       "\n",
       "    .dataframe thead th {\n",
       "        text-align: right;\n",
       "    }\n",
       "</style>\n",
       "<table border=\"1\" class=\"dataframe\">\n",
       "  <thead>\n",
       "    <tr style=\"text-align: right;\">\n",
       "      <th></th>\n",
       "      <th>NU_INSCRICAO</th>\n",
       "      <th>NU_ANO</th>\n",
       "      <th>CO_MUNICIPIO_RESIDENCIA</th>\n",
       "      <th>NO_MUNICIPIO_RESIDENCIA</th>\n",
       "      <th>CO_UF_RESIDENCIA</th>\n",
       "      <th>SG_UF_RESIDENCIA</th>\n",
       "      <th>NU_IDADE</th>\n",
       "      <th>TP_SEXO</th>\n",
       "      <th>TP_ESTADO_CIVIL</th>\n",
       "      <th>TP_COR_RACA</th>\n",
       "      <th>...</th>\n",
       "      <th>Q016</th>\n",
       "      <th>Q017</th>\n",
       "      <th>Q018</th>\n",
       "      <th>Q019</th>\n",
       "      <th>Q020</th>\n",
       "      <th>Q021</th>\n",
       "      <th>Q022</th>\n",
       "      <th>Q023</th>\n",
       "      <th>Q024</th>\n",
       "      <th>Q025</th>\n",
       "    </tr>\n",
       "  </thead>\n",
       "  <tbody>\n",
       "    <tr>\n",
       "      <th>0</th>\n",
       "      <td>190001004627</td>\n",
       "      <td>2019</td>\n",
       "      <td>1506807</td>\n",
       "      <td>Santarém</td>\n",
       "      <td>15</td>\n",
       "      <td>PA</td>\n",
       "      <td>21</td>\n",
       "      <td>M</td>\n",
       "      <td>1</td>\n",
       "      <td>3</td>\n",
       "      <td>...</td>\n",
       "      <td>A</td>\n",
       "      <td>A</td>\n",
       "      <td>A</td>\n",
       "      <td>C</td>\n",
       "      <td>B</td>\n",
       "      <td>A</td>\n",
       "      <td>D</td>\n",
       "      <td>A</td>\n",
       "      <td>B</td>\n",
       "      <td>A</td>\n",
       "    </tr>\n",
       "    <tr>\n",
       "      <th>1</th>\n",
       "      <td>190001004628</td>\n",
       "      <td>2019</td>\n",
       "      <td>1504059</td>\n",
       "      <td>Mãe do Rio</td>\n",
       "      <td>15</td>\n",
       "      <td>PA</td>\n",
       "      <td>16</td>\n",
       "      <td>F</td>\n",
       "      <td>1</td>\n",
       "      <td>3</td>\n",
       "      <td>...</td>\n",
       "      <td>A</td>\n",
       "      <td>A</td>\n",
       "      <td>A</td>\n",
       "      <td>B</td>\n",
       "      <td>B</td>\n",
       "      <td>A</td>\n",
       "      <td>B</td>\n",
       "      <td>A</td>\n",
       "      <td>A</td>\n",
       "      <td>A</td>\n",
       "    </tr>\n",
       "    <tr>\n",
       "      <th>2</th>\n",
       "      <td>190001004629</td>\n",
       "      <td>2019</td>\n",
       "      <td>1505502</td>\n",
       "      <td>Paragominas</td>\n",
       "      <td>15</td>\n",
       "      <td>PA</td>\n",
       "      <td>18</td>\n",
       "      <td>F</td>\n",
       "      <td>1</td>\n",
       "      <td>1</td>\n",
       "      <td>...</td>\n",
       "      <td>B</td>\n",
       "      <td>A</td>\n",
       "      <td>A</td>\n",
       "      <td>D</td>\n",
       "      <td>B</td>\n",
       "      <td>B</td>\n",
       "      <td>D</td>\n",
       "      <td>A</td>\n",
       "      <td>C</td>\n",
       "      <td>B</td>\n",
       "    </tr>\n",
       "    <tr>\n",
       "      <th>3</th>\n",
       "      <td>190001004630</td>\n",
       "      <td>2019</td>\n",
       "      <td>1507706</td>\n",
       "      <td>São Sebastião da Boa Vista</td>\n",
       "      <td>15</td>\n",
       "      <td>PA</td>\n",
       "      <td>23</td>\n",
       "      <td>M</td>\n",
       "      <td>0</td>\n",
       "      <td>3</td>\n",
       "      <td>...</td>\n",
       "      <td>A</td>\n",
       "      <td>A</td>\n",
       "      <td>A</td>\n",
       "      <td>C</td>\n",
       "      <td>A</td>\n",
       "      <td>A</td>\n",
       "      <td>D</td>\n",
       "      <td>A</td>\n",
       "      <td>A</td>\n",
       "      <td>A</td>\n",
       "    </tr>\n",
       "    <tr>\n",
       "      <th>4</th>\n",
       "      <td>190001004631</td>\n",
       "      <td>2019</td>\n",
       "      <td>1503903</td>\n",
       "      <td>Juruti</td>\n",
       "      <td>15</td>\n",
       "      <td>PA</td>\n",
       "      <td>23</td>\n",
       "      <td>M</td>\n",
       "      <td>1</td>\n",
       "      <td>3</td>\n",
       "      <td>...</td>\n",
       "      <td>A</td>\n",
       "      <td>A</td>\n",
       "      <td>A</td>\n",
       "      <td>B</td>\n",
       "      <td>A</td>\n",
       "      <td>A</td>\n",
       "      <td>D</td>\n",
       "      <td>A</td>\n",
       "      <td>A</td>\n",
       "      <td>A</td>\n",
       "    </tr>\n",
       "  </tbody>\n",
       "</table>\n",
       "<p>5 rows × 136 columns</p>\n",
       "</div>"
      ],
      "text/plain": [
       "   NU_INSCRICAO  NU_ANO  CO_MUNICIPIO_RESIDENCIA     NO_MUNICIPIO_RESIDENCIA  \\\n",
       "0  190001004627    2019                  1506807                    Santarém   \n",
       "1  190001004628    2019                  1504059                  Mãe do Rio   \n",
       "2  190001004629    2019                  1505502                 Paragominas   \n",
       "3  190001004630    2019                  1507706  São Sebastião da Boa Vista   \n",
       "4  190001004631    2019                  1503903                      Juruti   \n",
       "\n",
       "   CO_UF_RESIDENCIA SG_UF_RESIDENCIA  NU_IDADE TP_SEXO  TP_ESTADO_CIVIL  \\\n",
       "0                15               PA        21       M                1   \n",
       "1                15               PA        16       F                1   \n",
       "2                15               PA        18       F                1   \n",
       "3                15               PA        23       M                0   \n",
       "4                15               PA        23       M                1   \n",
       "\n",
       "   TP_COR_RACA  ...  Q016  Q017 Q018  Q019 Q020  Q021  Q022  Q023  Q024  Q025  \n",
       "0            3  ...     A     A    A     C    B     A     D     A     B     A  \n",
       "1            3  ...     A     A    A     B    B     A     B     A     A     A  \n",
       "2            1  ...     B     A    A     D    B     B     D     A     C     B  \n",
       "3            3  ...     A     A    A     C    A     A     D     A     A     A  \n",
       "4            3  ...     A     A    A     B    A     A     D     A     A     A  \n",
       "\n",
       "[5 rows x 136 columns]"
      ]
     },
     "execution_count": 4,
     "metadata": {},
     "output_type": "execute_result"
    }
   ],
   "source": [
    "dadosEnem.head()"
   ]
  },
  {
   "cell_type": "code",
   "execution_count": 5,
   "metadata": {},
   "outputs": [
    {
     "data": {
      "text/plain": [
       "array(['NU_INSCRICAO', 'NU_ANO', 'CO_MUNICIPIO_RESIDENCIA',\n",
       "       'NO_MUNICIPIO_RESIDENCIA', 'CO_UF_RESIDENCIA', 'SG_UF_RESIDENCIA',\n",
       "       'NU_IDADE', 'TP_SEXO', 'TP_ESTADO_CIVIL', 'TP_COR_RACA',\n",
       "       'TP_NACIONALIDADE', 'CO_MUNICIPIO_NASCIMENTO',\n",
       "       'NO_MUNICIPIO_NASCIMENTO', 'CO_UF_NASCIMENTO', 'SG_UF_NASCIMENTO',\n",
       "       'TP_ST_CONCLUSAO', 'TP_ANO_CONCLUIU', 'TP_ESCOLA', 'TP_ENSINO',\n",
       "       'IN_TREINEIRO', 'CO_ESCOLA', 'CO_MUNICIPIO_ESC',\n",
       "       'NO_MUNICIPIO_ESC', 'CO_UF_ESC', 'SG_UF_ESC',\n",
       "       'TP_DEPENDENCIA_ADM_ESC', 'TP_LOCALIZACAO_ESC', 'TP_SIT_FUNC_ESC',\n",
       "       'IN_BAIXA_VISAO', 'IN_CEGUEIRA', 'IN_SURDEZ',\n",
       "       'IN_DEFICIENCIA_AUDITIVA', 'IN_SURDO_CEGUEIRA',\n",
       "       'IN_DEFICIENCIA_FISICA', 'IN_DEFICIENCIA_MENTAL',\n",
       "       'IN_DEFICIT_ATENCAO', 'IN_DISLEXIA', 'IN_DISCALCULIA',\n",
       "       'IN_AUTISMO', 'IN_VISAO_MONOCULAR', 'IN_OUTRA_DEF', 'IN_GESTANTE',\n",
       "       'IN_LACTANTE', 'IN_IDOSO', 'IN_ESTUDA_CLASSE_HOSPITALAR',\n",
       "       'IN_SEM_RECURSO', 'IN_BRAILLE', 'IN_AMPLIADA_24', 'IN_AMPLIADA_18',\n",
       "       'IN_LEDOR', 'IN_ACESSO', 'IN_TRANSCRICAO', 'IN_LIBRAS',\n",
       "       'IN_TEMPO_ADICIONAL', 'IN_LEITURA_LABIAL', 'IN_MESA_CADEIRA_RODAS',\n",
       "       'IN_MESA_CADEIRA_SEPARADA', 'IN_APOIO_PERNA', 'IN_GUIA_INTERPRETE',\n",
       "       'IN_COMPUTADOR', 'IN_CADEIRA_ESPECIAL', 'IN_CADEIRA_CANHOTO',\n",
       "       'IN_CADEIRA_ACOLCHOADA', 'IN_PROVA_DEITADO', 'IN_MOBILIARIO_OBESO',\n",
       "       'IN_LAMINA_OVERLAY', 'IN_PROTETOR_AURICULAR', 'IN_MEDIDOR_GLICOSE',\n",
       "       'IN_MAQUINA_BRAILE', 'IN_SOROBAN', 'IN_MARCA_PASSO', 'IN_SONDA',\n",
       "       'IN_MEDICAMENTOS', 'IN_SALA_INDIVIDUAL', 'IN_SALA_ESPECIAL',\n",
       "       'IN_SALA_ACOMPANHANTE', 'IN_MOBILIARIO_ESPECIFICO',\n",
       "       'IN_MATERIAL_ESPECIFICO', 'IN_NOME_SOCIAL', 'CO_MUNICIPIO_PROVA',\n",
       "       'NO_MUNICIPIO_PROVA', 'CO_UF_PROVA', 'SG_UF_PROVA',\n",
       "       'TP_PRESENCA_CN', 'TP_PRESENCA_CH', 'TP_PRESENCA_LC',\n",
       "       'TP_PRESENCA_MT', 'CO_PROVA_CN', 'CO_PROVA_CH', 'CO_PROVA_LC',\n",
       "       'CO_PROVA_MT', 'NU_NOTA_CN', 'NU_NOTA_CH', 'NU_NOTA_LC',\n",
       "       'NU_NOTA_MT', 'TX_RESPOSTAS_CN', 'TX_RESPOSTAS_CH',\n",
       "       'TX_RESPOSTAS_LC', 'TX_RESPOSTAS_MT', 'TP_LINGUA',\n",
       "       'TX_GABARITO_CN', 'TX_GABARITO_CH', 'TX_GABARITO_LC',\n",
       "       'TX_GABARITO_MT', 'TP_STATUS_REDACAO', 'NU_NOTA_COMP1',\n",
       "       'NU_NOTA_COMP2', 'NU_NOTA_COMP3', 'NU_NOTA_COMP4', 'NU_NOTA_COMP5',\n",
       "       'NU_NOTA_REDACAO', 'Q001', 'Q002', 'Q003', 'Q004', 'Q005', 'Q006',\n",
       "       'Q007', 'Q008', 'Q009', 'Q010', 'Q011', 'Q012', 'Q013', 'Q014',\n",
       "       'Q015', 'Q016', 'Q017', 'Q018', 'Q019', 'Q020', 'Q021', 'Q022',\n",
       "       'Q023', 'Q024', 'Q025'], dtype=object)"
      ]
     },
     "execution_count": 5,
     "metadata": {},
     "output_type": "execute_result"
    }
   ],
   "source": [
    "dadosEnem.columns.values"
   ]
  },
  {
   "cell_type": "code",
   "execution_count": 6,
   "metadata": {},
   "outputs": [],
   "source": [
    "# Selecionando as features de interesse\n",
    "dadosInteresse = ['CO_MUNICIPIO_RESIDENCIA', 'CO_UF_RESIDENCIA', 'NU_IDADE',\n",
    "                      'TP_SEXO', 'TP_COR_RACA', 'TP_ESCOLA', 'NU_NOTA_CN', 'NU_NOTA_CH', \n",
    "                      'NU_NOTA_REDACAO', 'NU_NOTA_MT', 'NU_NOTA_LC', \n",
    "                      'TP_PRESENCA_CN', 'TP_PRESENCA_CH', 'TP_PRESENCA_MT', 'TP_PRESENCA_LC',\n",
    "                      'Q001', 'Q002', 'Q003', 'Q004', 'Q005', 'Q006',\n",
    "                      'Q007', 'Q008', 'Q009', 'Q010', 'Q011', 'Q012', 'Q013', 'Q014',\n",
    "                      'Q015', 'Q016', 'Q017', 'Q018', 'Q019', 'Q020', 'Q021', 'Q022',\n",
    "                      'Q023', 'Q024', 'Q025']"
   ]
  },
  {
   "cell_type": "code",
   "execution_count": 7,
   "metadata": {},
   "outputs": [],
   "source": [
    "dadosEnemInteresse = dadosEnem.filter(items=dadosInteresse)"
   ]
  },
  {
   "cell_type": "code",
   "execution_count": 8,
   "metadata": {},
   "outputs": [],
   "source": [
    "# Filtrando o dataset apenas para os candidatos que estiveram presentes nas provas \n",
    "for element in ['TP_PRESENCA_CN', 'TP_PRESENCA_CH', 'TP_PRESENCA_MT', 'TP_PRESENCA_LC']:\n",
    "    dadosEnemInteresse = dadosEnemInteresse[dadosEnemInteresse[element]==1]"
   ]
  },
  {
   "cell_type": "code",
   "execution_count": 9,
   "metadata": {},
   "outputs": [],
   "source": [
    "# Filtrando o dataset apenas para alunos que não zeraram nenhuma das provas\n",
    "for element in ['NU_NOTA_CH', 'NU_NOTA_LC', 'NU_NOTA_MT', 'NU_NOTA_REDACAO']:\n",
    "    dadosEnemInteresse = dadosEnemInteresse[dadosEnemInteresse[element]!=0]"
   ]
  },
  {
   "cell_type": "code",
   "execution_count": 10,
   "metadata": {},
   "outputs": [],
   "source": [
    "# Retirando as colunas de presença do nosso modelo \n",
    "# Só iremos manter Código do Municipo, Código do Estdo, Idade, Sexo, Raça, Escola e o questionário sócioeconomico, e as notas\n",
    "\n",
    "dadosEnemInteresse = dadosEnemInteresse.drop(columns=['TP_PRESENCA_CN', 'TP_PRESENCA_CH', 'TP_PRESENCA_MT', 'TP_PRESENCA_LC'])"
   ]
  },
  {
   "cell_type": "markdown",
   "metadata": {},
   "source": [
    "#### Tratando valores missing"
   ]
  },
  {
   "cell_type": "code",
   "execution_count": 11,
   "metadata": {},
   "outputs": [
    {
     "data": {
      "text/plain": [
       "NU_NOTA_REDACAO            1\n",
       "CO_MUNICIPIO_RESIDENCIA    0\n",
       "Q017                       0\n",
       "Q011                       0\n",
       "Q012                       0\n",
       "Q013                       0\n",
       "Q014                       0\n",
       "Q015                       0\n",
       "Q016                       0\n",
       "Q018                       0\n",
       "Q009                       0\n",
       "Q019                       0\n",
       "Q020                       0\n",
       "Q021                       0\n",
       "Q022                       0\n",
       "Q023                       0\n",
       "Q024                       0\n",
       "Q010                       0\n",
       "Q008                       0\n",
       "CO_UF_RESIDENCIA           0\n",
       "NU_NOTA_MT                 0\n",
       "NU_IDADE                   0\n",
       "TP_SEXO                    0\n",
       "TP_COR_RACA                0\n",
       "TP_ESCOLA                  0\n",
       "NU_NOTA_CN                 0\n",
       "NU_NOTA_CH                 0\n",
       "NU_NOTA_LC                 0\n",
       "Q007                       0\n",
       "Q001                       0\n",
       "Q002                       0\n",
       "Q003                       0\n",
       "Q004                       0\n",
       "Q005                       0\n",
       "Q006                       0\n",
       "Q025                       0\n",
       "dtype: int64"
      ]
     },
     "execution_count": 11,
     "metadata": {},
     "output_type": "execute_result"
    }
   ],
   "source": [
    "dadosEnemInteresse.isnull().sum(axis=0).sort_values(ascending=False)"
   ]
  },
  {
   "cell_type": "code",
   "execution_count": 12,
   "metadata": {},
   "outputs": [],
   "source": [
    "# Como só temos uma linha com valor NULL em NU_NOTA_REDACAO, iremos dropa-la pois facilitará na hora de remoção dos outliers\n",
    "dadosEnemInteresse = dadosEnemInteresse.dropna()"
   ]
  },
  {
   "cell_type": "code",
   "execution_count": 13,
   "metadata": {},
   "outputs": [],
   "source": [
    "# Não temos mais valores nulos nas nossas features, porém algumas perguntas do questionário socioeconomico possuem a opção \n",
    "# \"Não sei\", esses valores serão tratados como missing data pelo nosso modelo. \n",
    "\n",
    "\n",
    "# TP_COR_RACA - 0 (Não declarado)\n",
    "# TP_ESCOLA - 1 (Não respondeu)\n",
    "# Q001 - Escolaridade do pai - H \n",
    "# Q002 - Escolaridade da mãe - H \n",
    "# Q003 - Profissão do pai - F\n",
    "# Q004 - Profissão da mãe - F"
   ]
  },
  {
   "cell_type": "code",
   "execution_count": 14,
   "metadata": {},
   "outputs": [
    {
     "name": "stdout",
     "output_type": "stream",
     "text": [
      "Candidatos que não sabem a escolaridade de ambos os pais: 63171 - 1.8%\n",
      "Candidatos que não sabem a ocupação de ambos os pais 110974 - 3.1%\n"
     ]
    }
   ],
   "source": [
    "# Total de registros do dataset\n",
    "total = len(dadosEnemInteresse.index) \n",
    "\n",
    "# Total de candidatos que não sabem a escolaridade de ambos os pais\n",
    "EscolaridadePaieMae = dadosEnemInteresse[(dadosEnemInteresse['Q001'] == 'H') \\\n",
    "                                      & (dadosEnemInteresse['Q002'] == 'H')]['Q002'].count()\n",
    "\n",
    "EscolaridadePaieMae_Percent = round(EscolaridadePaieMae*100/total,1)\n",
    "\n",
    "\n",
    "# Total de candidatos que não sabem a ocupação de ambos os pais\n",
    "OcupacaoPaieMae = dadosEnemInteresse[(dadosEnemInteresse['Q003'] == 'F') \\\n",
    "                                      & (dadosEnemInteresse['Q004'] == 'F')]['Q003'].count()\n",
    "\n",
    "OcupacaoPaieMae_Percent = round(OcupacaoPaieMae*100/total,1)\n",
    "\n",
    "print('Candidatos que não sabem a escolaridade de ambos os pais: ' + \n",
    "      str(EscolaridadePaieMae) + ' - ' + str(EscolaridadePaieMae_Percent) + '%') \n",
    "\n",
    "print('Candidatos que não sabem a ocupação de ambos os pais ' + \n",
    "      str(OcupacaoPaieMae)  + ' - ' + str(OcupacaoPaieMae_Percent) + '%')    "
   ]
  },
  {
   "cell_type": "code",
   "execution_count": 15,
   "metadata": {},
   "outputs": [],
   "source": [
    "# 1.8% dos candidatos não sabem a escolaridade de ambos os pais, então iremos então eliminar esses candidatos\n",
    "# _wmd = without missing data\n",
    "\n",
    "dadosEnemInteresse_wmd = dadosEnemInteresse[(dadosEnemInteresse['Q001'] != 'H') | (dadosEnemInteresse['Q002'] != 'H')]"
   ]
  },
  {
   "cell_type": "code",
   "execution_count": 16,
   "metadata": {},
   "outputs": [],
   "source": [
    "# 3.1% dos candidatos não sabem a ocupação de ambos os pais também serão eliminados\n",
    "dadosEnemInteresse_wmd = dadosEnemInteresse_wmd[(dadosEnemInteresse_wmd['Q003'] != 'F') | \\\n",
    "                                                (dadosEnemInteresse_wmd['Q004'] != 'F')]"
   ]
  },
  {
   "cell_type": "markdown",
   "metadata": {},
   "source": [
    "#### Feature Engineering"
   ]
  },
  {
   "cell_type": "markdown",
   "metadata": {},
   "source": [
    "##### 1ª Feature - Max escolaridade entre o pai e a mãe "
   ]
  },
  {
   "cell_type": "code",
   "execution_count": 17,
   "metadata": {},
   "outputs": [],
   "source": [
    "# Forte correlação visto no baseline, além de resolver o problema do missing data\n",
    "# para candidatos que sabem apenas a escolaridade de um dos pais \n",
    "\n",
    "# Criando uma cópia do Dataframe para facilitar as manipulaçãos de feature enginnering\n",
    "dadosEnemInteresse_FE = dadosEnemInteresse_wmd.copy()"
   ]
  },
  {
   "cell_type": "code",
   "execution_count": 18,
   "metadata": {},
   "outputs": [],
   "source": [
    "# Substituindo os dados da Q001 por valores númericos\n",
    "dadosEnemInteresse_FE['Q001'] = dadosEnemInteresse_FE['Q001'].map({'A': 0, 'B': 1, 'C': 2, 'D': 3,\n",
    "                                                                   'E': 4, 'F': 5, 'G': 6, 'H':-1})\n",
    "\n",
    "# Substituindo os dados da Q002 por valores númericos\n",
    "dadosEnemInteresse_FE['Q002'] = dadosEnemInteresse_FE['Q002'].map({'A': 0, 'B': 1, 'C': 2, 'D': 3,\n",
    "                                                                   'E': 4, 'F': 5, 'G': 6, 'H':-1})"
   ]
  },
  {
   "cell_type": "code",
   "execution_count": 19,
   "metadata": {},
   "outputs": [],
   "source": [
    "# Selecionando a maior escolaridade entre as features selecionadas\n",
    "dadosEnemInteresse_FE['MAX_ESCOLARIDADE_PAIS'] = dadosEnemInteresse_FE[['Q001','Q002']].max(axis=1)"
   ]
  },
  {
   "cell_type": "code",
   "execution_count": 20,
   "metadata": {},
   "outputs": [],
   "source": [
    "# Dropando as duas colunas que dizem respeito a escolaridade\n",
    "dadosEnemInteresse_FE.drop(['Q001', 'Q002'], axis=1, inplace=True)"
   ]
  },
  {
   "cell_type": "markdown",
   "metadata": {},
   "source": [
    "##### 2ª Feature - Max ocupação entre o pai e mãe"
   ]
  },
  {
   "cell_type": "code",
   "execution_count": 21,
   "metadata": {},
   "outputs": [],
   "source": [
    "# Forte correlação visto no baseline, além de resolver o problema do missing data\n",
    "# para candidatos que sabem apenas a ocupação de um dos pais "
   ]
  },
  {
   "cell_type": "code",
   "execution_count": 22,
   "metadata": {},
   "outputs": [],
   "source": [
    "# Substituindo os dados da Q003 por valores númericos\n",
    "dadosEnemInteresse_FE['Q003'] = dadosEnemInteresse_FE['Q003'].map({'A': 0, 'B': 1, 'C': 2, 'D': 3,\n",
    "                                                                   'E': 4, 'F': -1})\n",
    "\n",
    "# Substituindo os dados da Q004 por valores númericos\n",
    "dadosEnemInteresse_FE['Q004'] = dadosEnemInteresse_FE['Q004'].map({'A': 0, 'B': 1, 'C': 2, 'D': 3,\n",
    "                                                                   'E': 4, 'F': -1})"
   ]
  },
  {
   "cell_type": "code",
   "execution_count": 23,
   "metadata": {},
   "outputs": [],
   "source": [
    "# Selecionando a maior escolaridade entre as features selecionadas\n",
    "dadosEnemInteresse_FE['MAX_OCUPACAO_PAIS'] = dadosEnemInteresse_FE[['Q003','Q004']].max(axis=1)"
   ]
  },
  {
   "cell_type": "code",
   "execution_count": 24,
   "metadata": {},
   "outputs": [],
   "source": [
    "# Dropando as duas colunas que dizem respeito a ocupação dos pais\n",
    "dadosEnemInteresse_FE.drop(['Q003', 'Q004'], axis=1, inplace=True)"
   ]
  },
  {
   "cell_type": "code",
   "execution_count": 25,
   "metadata": {},
   "outputs": [
    {
     "data": {
      "text/html": [
       "<div>\n",
       "<style scoped>\n",
       "    .dataframe tbody tr th:only-of-type {\n",
       "        vertical-align: middle;\n",
       "    }\n",
       "\n",
       "    .dataframe tbody tr th {\n",
       "        vertical-align: top;\n",
       "    }\n",
       "\n",
       "    .dataframe thead th {\n",
       "        text-align: right;\n",
       "    }\n",
       "</style>\n",
       "<table border=\"1\" class=\"dataframe\">\n",
       "  <thead>\n",
       "    <tr style=\"text-align: right;\">\n",
       "      <th></th>\n",
       "      <th>CO_MUNICIPIO_RESIDENCIA</th>\n",
       "      <th>CO_UF_RESIDENCIA</th>\n",
       "      <th>NU_IDADE</th>\n",
       "      <th>TP_SEXO</th>\n",
       "      <th>TP_COR_RACA</th>\n",
       "      <th>TP_ESCOLA</th>\n",
       "      <th>NU_NOTA_CN</th>\n",
       "      <th>NU_NOTA_CH</th>\n",
       "      <th>NU_NOTA_REDACAO</th>\n",
       "      <th>NU_NOTA_MT</th>\n",
       "      <th>...</th>\n",
       "      <th>Q018</th>\n",
       "      <th>Q019</th>\n",
       "      <th>Q020</th>\n",
       "      <th>Q021</th>\n",
       "      <th>Q022</th>\n",
       "      <th>Q023</th>\n",
       "      <th>Q024</th>\n",
       "      <th>Q025</th>\n",
       "      <th>MAX_ESCOLARIDADE_PAIS</th>\n",
       "      <th>MAX_OCUPACAO_PAIS</th>\n",
       "    </tr>\n",
       "  </thead>\n",
       "  <tbody>\n",
       "    <tr>\n",
       "      <th>0</th>\n",
       "      <td>1506807</td>\n",
       "      <td>15</td>\n",
       "      <td>21</td>\n",
       "      <td>M</td>\n",
       "      <td>3</td>\n",
       "      <td>1</td>\n",
       "      <td>472.9</td>\n",
       "      <td>466.0</td>\n",
       "      <td>780.0</td>\n",
       "      <td>369.1</td>\n",
       "      <td>...</td>\n",
       "      <td>A</td>\n",
       "      <td>C</td>\n",
       "      <td>B</td>\n",
       "      <td>A</td>\n",
       "      <td>D</td>\n",
       "      <td>A</td>\n",
       "      <td>B</td>\n",
       "      <td>A</td>\n",
       "      <td>4</td>\n",
       "      <td>0</td>\n",
       "    </tr>\n",
       "    <tr>\n",
       "      <th>1</th>\n",
       "      <td>1504059</td>\n",
       "      <td>15</td>\n",
       "      <td>16</td>\n",
       "      <td>F</td>\n",
       "      <td>3</td>\n",
       "      <td>1</td>\n",
       "      <td>358.9</td>\n",
       "      <td>495.4</td>\n",
       "      <td>600.0</td>\n",
       "      <td>416.5</td>\n",
       "      <td>...</td>\n",
       "      <td>A</td>\n",
       "      <td>B</td>\n",
       "      <td>B</td>\n",
       "      <td>A</td>\n",
       "      <td>B</td>\n",
       "      <td>A</td>\n",
       "      <td>A</td>\n",
       "      <td>A</td>\n",
       "      <td>4</td>\n",
       "      <td>0</td>\n",
       "    </tr>\n",
       "    <tr>\n",
       "      <th>2</th>\n",
       "      <td>1505502</td>\n",
       "      <td>15</td>\n",
       "      <td>18</td>\n",
       "      <td>F</td>\n",
       "      <td>1</td>\n",
       "      <td>3</td>\n",
       "      <td>574.2</td>\n",
       "      <td>538.7</td>\n",
       "      <td>640.0</td>\n",
       "      <td>571.5</td>\n",
       "      <td>...</td>\n",
       "      <td>A</td>\n",
       "      <td>D</td>\n",
       "      <td>B</td>\n",
       "      <td>B</td>\n",
       "      <td>D</td>\n",
       "      <td>A</td>\n",
       "      <td>C</td>\n",
       "      <td>B</td>\n",
       "      <td>4</td>\n",
       "      <td>3</td>\n",
       "    </tr>\n",
       "    <tr>\n",
       "      <th>5</th>\n",
       "      <td>1500800</td>\n",
       "      <td>15</td>\n",
       "      <td>31</td>\n",
       "      <td>M</td>\n",
       "      <td>1</td>\n",
       "      <td>1</td>\n",
       "      <td>522.0</td>\n",
       "      <td>592.6</td>\n",
       "      <td>580.0</td>\n",
       "      <td>605.3</td>\n",
       "      <td>...</td>\n",
       "      <td>A</td>\n",
       "      <td>B</td>\n",
       "      <td>A</td>\n",
       "      <td>A</td>\n",
       "      <td>D</td>\n",
       "      <td>A</td>\n",
       "      <td>A</td>\n",
       "      <td>A</td>\n",
       "      <td>2</td>\n",
       "      <td>3</td>\n",
       "    </tr>\n",
       "    <tr>\n",
       "      <th>6</th>\n",
       "      <td>1504208</td>\n",
       "      <td>15</td>\n",
       "      <td>30</td>\n",
       "      <td>F</td>\n",
       "      <td>3</td>\n",
       "      <td>1</td>\n",
       "      <td>407.4</td>\n",
       "      <td>480.1</td>\n",
       "      <td>360.0</td>\n",
       "      <td>581.5</td>\n",
       "      <td>...</td>\n",
       "      <td>A</td>\n",
       "      <td>B</td>\n",
       "      <td>A</td>\n",
       "      <td>A</td>\n",
       "      <td>B</td>\n",
       "      <td>A</td>\n",
       "      <td>A</td>\n",
       "      <td>B</td>\n",
       "      <td>1</td>\n",
       "      <td>0</td>\n",
       "    </tr>\n",
       "  </tbody>\n",
       "</table>\n",
       "<p>5 rows × 34 columns</p>\n",
       "</div>"
      ],
      "text/plain": [
       "   CO_MUNICIPIO_RESIDENCIA  CO_UF_RESIDENCIA  NU_IDADE TP_SEXO  TP_COR_RACA  \\\n",
       "0                  1506807                15        21       M            3   \n",
       "1                  1504059                15        16       F            3   \n",
       "2                  1505502                15        18       F            1   \n",
       "5                  1500800                15        31       M            1   \n",
       "6                  1504208                15        30       F            3   \n",
       "\n",
       "   TP_ESCOLA  NU_NOTA_CN  NU_NOTA_CH  NU_NOTA_REDACAO  NU_NOTA_MT  ...  Q018  \\\n",
       "0          1       472.9       466.0            780.0       369.1  ...     A   \n",
       "1          1       358.9       495.4            600.0       416.5  ...     A   \n",
       "2          3       574.2       538.7            640.0       571.5  ...     A   \n",
       "5          1       522.0       592.6            580.0       605.3  ...     A   \n",
       "6          1       407.4       480.1            360.0       581.5  ...     A   \n",
       "\n",
       "   Q019 Q020 Q021 Q022 Q023 Q024 Q025 MAX_ESCOLARIDADE_PAIS MAX_OCUPACAO_PAIS  \n",
       "0     C    B    A    D    A    B    A                     4                 0  \n",
       "1     B    B    A    B    A    A    A                     4                 0  \n",
       "2     D    B    B    D    A    C    B                     4                 3  \n",
       "5     B    A    A    D    A    A    A                     2                 3  \n",
       "6     B    A    A    B    A    A    B                     1                 0  \n",
       "\n",
       "[5 rows x 34 columns]"
      ]
     },
     "execution_count": 25,
     "metadata": {},
     "output_type": "execute_result"
    }
   ],
   "source": [
    "dadosEnemInteresse_FE.head()"
   ]
  },
  {
   "cell_type": "markdown",
   "metadata": {},
   "source": [
    "##### 3ª Feature - Renda por morador"
   ]
  },
  {
   "cell_type": "code",
   "execution_count": 26,
   "metadata": {},
   "outputs": [],
   "source": [
    "# Q005 indica a quantidade de pessoas que moram na mesma casa que o candidato\n",
    "# Q006 indica a renda mensal da familia\n",
    "\n",
    "# A - Nenhuma renda.\n",
    "# B - R$ 998,00.\n",
    "# C - R$ 998,01 até R$ 1.497,00.\n",
    "# D - R$ 1.497,01 até R$ 1.996,00.\n",
    "# E - R$ 1.996,01 até R$ 2.495,00.\n",
    "# F - R$ 2.495,01 até R$ 2.994,00.\n",
    "# G - R$ 2.994,01 até R$ 3.992,00.\n",
    "# H - R$ 3.992,01 até R$ 4.990,00.\n",
    "# I - R$ 4.990,01 até R$ 5.988,00.\n",
    "# J - R$ 5.988,01 até R$ 6.986,00.\n",
    "# K - R$ 6.986,01 até R$ 7.984,00.\n",
    "# L - R$ 7.984,01 até R$ 8.982,00.\n",
    "# M - R$ 8.982,01 até R$ 9.980,00.\n",
    "# N - R$ 9.980,01 até R$ 11.976,00.\n",
    "# O - R$ 11.976,01 até R$ 14.970,00.\n",
    "# P - R$ 14.970,01 até R$ 19.960,00.\n",
    "# Q - Mais de R$ 19.960,00"
   ]
  },
  {
   "cell_type": "code",
   "execution_count": 27,
   "metadata": {},
   "outputs": [],
   "source": [
    "# Substituindo os dados da Q006 por valores númericos\n",
    "dadosEnemInteresse_FE['Q006'] = dadosEnemInteresse_FE['Q006'].map({'A': 0, \n",
    "                                                                   'B': 998, \n",
    "                                                                   'C': 999, \n",
    "                                                                   'D': 1498,\n",
    "                                                                   'E': 1997, \n",
    "                                                                   'F': 2496,\n",
    "                                                                   'G': 2995,\n",
    "                                                                   'H': 3992,\n",
    "                                                                   'I': 4991,\n",
    "                                                                   'J': 5989,\n",
    "                                                                   'K': 6987,\n",
    "                                                                   'L': 7985,\n",
    "                                                                   'M': 8983,\n",
    "                                                                   'N': 9981,\n",
    "                                                                   'O': 11977,\n",
    "                                                                   'P': 14971,\n",
    "                                                                   'Q': 19960,\n",
    "                                                                  })"
   ]
  },
  {
   "cell_type": "code",
   "execution_count": 28,
   "metadata": {},
   "outputs": [],
   "source": [
    "# Criando a nova de feature renda por morador \n",
    "dadosEnemInteresse_FE['RENDA_MORADOR'] = dadosEnemInteresse_FE['Q006']/dadosEnemInteresse_FE['Q005']"
   ]
  },
  {
   "cell_type": "code",
   "execution_count": 29,
   "metadata": {},
   "outputs": [],
   "source": [
    "# Como as features utilizadas não possuem dados missing, elas não serão excluidas do modelo"
   ]
  },
  {
   "cell_type": "code",
   "execution_count": 30,
   "metadata": {},
   "outputs": [
    {
     "data": {
      "text/html": [
       "<div>\n",
       "<style scoped>\n",
       "    .dataframe tbody tr th:only-of-type {\n",
       "        vertical-align: middle;\n",
       "    }\n",
       "\n",
       "    .dataframe tbody tr th {\n",
       "        vertical-align: top;\n",
       "    }\n",
       "\n",
       "    .dataframe thead th {\n",
       "        text-align: right;\n",
       "    }\n",
       "</style>\n",
       "<table border=\"1\" class=\"dataframe\">\n",
       "  <thead>\n",
       "    <tr style=\"text-align: right;\">\n",
       "      <th></th>\n",
       "      <th>CO_MUNICIPIO_RESIDENCIA</th>\n",
       "      <th>CO_UF_RESIDENCIA</th>\n",
       "      <th>NU_IDADE</th>\n",
       "      <th>TP_SEXO</th>\n",
       "      <th>TP_COR_RACA</th>\n",
       "      <th>TP_ESCOLA</th>\n",
       "      <th>NU_NOTA_CN</th>\n",
       "      <th>NU_NOTA_CH</th>\n",
       "      <th>NU_NOTA_REDACAO</th>\n",
       "      <th>NU_NOTA_MT</th>\n",
       "      <th>...</th>\n",
       "      <th>Q019</th>\n",
       "      <th>Q020</th>\n",
       "      <th>Q021</th>\n",
       "      <th>Q022</th>\n",
       "      <th>Q023</th>\n",
       "      <th>Q024</th>\n",
       "      <th>Q025</th>\n",
       "      <th>MAX_ESCOLARIDADE_PAIS</th>\n",
       "      <th>MAX_OCUPACAO_PAIS</th>\n",
       "      <th>RENDA_MORADOR</th>\n",
       "    </tr>\n",
       "  </thead>\n",
       "  <tbody>\n",
       "    <tr>\n",
       "      <th>0</th>\n",
       "      <td>1506807</td>\n",
       "      <td>15</td>\n",
       "      <td>21</td>\n",
       "      <td>M</td>\n",
       "      <td>3</td>\n",
       "      <td>1</td>\n",
       "      <td>472.9</td>\n",
       "      <td>466.0</td>\n",
       "      <td>780.0</td>\n",
       "      <td>369.1</td>\n",
       "      <td>...</td>\n",
       "      <td>C</td>\n",
       "      <td>B</td>\n",
       "      <td>A</td>\n",
       "      <td>D</td>\n",
       "      <td>A</td>\n",
       "      <td>B</td>\n",
       "      <td>A</td>\n",
       "      <td>4</td>\n",
       "      <td>0</td>\n",
       "      <td>142.571429</td>\n",
       "    </tr>\n",
       "    <tr>\n",
       "      <th>1</th>\n",
       "      <td>1504059</td>\n",
       "      <td>15</td>\n",
       "      <td>16</td>\n",
       "      <td>F</td>\n",
       "      <td>3</td>\n",
       "      <td>1</td>\n",
       "      <td>358.9</td>\n",
       "      <td>495.4</td>\n",
       "      <td>600.0</td>\n",
       "      <td>416.5</td>\n",
       "      <td>...</td>\n",
       "      <td>B</td>\n",
       "      <td>B</td>\n",
       "      <td>A</td>\n",
       "      <td>B</td>\n",
       "      <td>A</td>\n",
       "      <td>A</td>\n",
       "      <td>A</td>\n",
       "      <td>4</td>\n",
       "      <td>0</td>\n",
       "      <td>199.600000</td>\n",
       "    </tr>\n",
       "    <tr>\n",
       "      <th>2</th>\n",
       "      <td>1505502</td>\n",
       "      <td>15</td>\n",
       "      <td>18</td>\n",
       "      <td>F</td>\n",
       "      <td>1</td>\n",
       "      <td>3</td>\n",
       "      <td>574.2</td>\n",
       "      <td>538.7</td>\n",
       "      <td>640.0</td>\n",
       "      <td>571.5</td>\n",
       "      <td>...</td>\n",
       "      <td>D</td>\n",
       "      <td>B</td>\n",
       "      <td>B</td>\n",
       "      <td>D</td>\n",
       "      <td>A</td>\n",
       "      <td>C</td>\n",
       "      <td>B</td>\n",
       "      <td>4</td>\n",
       "      <td>3</td>\n",
       "      <td>333.000000</td>\n",
       "    </tr>\n",
       "    <tr>\n",
       "      <th>5</th>\n",
       "      <td>1500800</td>\n",
       "      <td>15</td>\n",
       "      <td>31</td>\n",
       "      <td>M</td>\n",
       "      <td>1</td>\n",
       "      <td>1</td>\n",
       "      <td>522.0</td>\n",
       "      <td>592.6</td>\n",
       "      <td>580.0</td>\n",
       "      <td>605.3</td>\n",
       "      <td>...</td>\n",
       "      <td>B</td>\n",
       "      <td>A</td>\n",
       "      <td>A</td>\n",
       "      <td>D</td>\n",
       "      <td>A</td>\n",
       "      <td>A</td>\n",
       "      <td>A</td>\n",
       "      <td>2</td>\n",
       "      <td>3</td>\n",
       "      <td>199.800000</td>\n",
       "    </tr>\n",
       "    <tr>\n",
       "      <th>6</th>\n",
       "      <td>1504208</td>\n",
       "      <td>15</td>\n",
       "      <td>30</td>\n",
       "      <td>F</td>\n",
       "      <td>3</td>\n",
       "      <td>1</td>\n",
       "      <td>407.4</td>\n",
       "      <td>480.1</td>\n",
       "      <td>360.0</td>\n",
       "      <td>581.5</td>\n",
       "      <td>...</td>\n",
       "      <td>B</td>\n",
       "      <td>A</td>\n",
       "      <td>A</td>\n",
       "      <td>B</td>\n",
       "      <td>A</td>\n",
       "      <td>A</td>\n",
       "      <td>B</td>\n",
       "      <td>1</td>\n",
       "      <td>0</td>\n",
       "      <td>249.750000</td>\n",
       "    </tr>\n",
       "  </tbody>\n",
       "</table>\n",
       "<p>5 rows × 35 columns</p>\n",
       "</div>"
      ],
      "text/plain": [
       "   CO_MUNICIPIO_RESIDENCIA  CO_UF_RESIDENCIA  NU_IDADE TP_SEXO  TP_COR_RACA  \\\n",
       "0                  1506807                15        21       M            3   \n",
       "1                  1504059                15        16       F            3   \n",
       "2                  1505502                15        18       F            1   \n",
       "5                  1500800                15        31       M            1   \n",
       "6                  1504208                15        30       F            3   \n",
       "\n",
       "   TP_ESCOLA  NU_NOTA_CN  NU_NOTA_CH  NU_NOTA_REDACAO  NU_NOTA_MT  ...  Q019  \\\n",
       "0          1       472.9       466.0            780.0       369.1  ...     C   \n",
       "1          1       358.9       495.4            600.0       416.5  ...     B   \n",
       "2          3       574.2       538.7            640.0       571.5  ...     D   \n",
       "5          1       522.0       592.6            580.0       605.3  ...     B   \n",
       "6          1       407.4       480.1            360.0       581.5  ...     B   \n",
       "\n",
       "   Q020  Q021 Q022 Q023 Q024 Q025 MAX_ESCOLARIDADE_PAIS MAX_OCUPACAO_PAIS  \\\n",
       "0     B     A    D    A    B    A                     4                 0   \n",
       "1     B     A    B    A    A    A                     4                 0   \n",
       "2     B     B    D    A    C    B                     4                 3   \n",
       "5     A     A    D    A    A    A                     2                 3   \n",
       "6     A     A    B    A    A    B                     1                 0   \n",
       "\n",
       "  RENDA_MORADOR  \n",
       "0    142.571429  \n",
       "1    199.600000  \n",
       "2    333.000000  \n",
       "5    199.800000  \n",
       "6    249.750000  \n",
       "\n",
       "[5 rows x 35 columns]"
      ]
     },
     "execution_count": 30,
     "metadata": {},
     "output_type": "execute_result"
    }
   ],
   "source": [
    "dadosEnemInteresse_FE.head()"
   ]
  },
  {
   "cell_type": "markdown",
   "metadata": {},
   "source": [
    "#### Analise de outliers"
   ]
  },
  {
   "cell_type": "code",
   "execution_count": 31,
   "metadata": {},
   "outputs": [],
   "source": [
    "# Os outliers são dados que se diferenciam drasticamente de todos os outros, \n",
    "# são pontos fora da curva normal (o que é curva normal?). \n",
    "# Em outras palavras, um outlier é um valor que foge da normalidade e que pode (e provavelmente irá) \n",
    "# causar anomalias nos resultados obtidos por meio de algoritmos e sistemas de análise."
   ]
  },
  {
   "cell_type": "code",
   "execution_count": 32,
   "metadata": {},
   "outputs": [],
   "source": [
    "# wo = without outliers\n",
    "dadosEnemInteresse_wo = dadosEnemInteresse_FE.copy()"
   ]
  },
  {
   "cell_type": "code",
   "execution_count": 33,
   "metadata": {},
   "outputs": [
    {
     "name": "stdout",
     "output_type": "stream",
     "text": [
      "<class 'pandas.core.frame.DataFrame'>\n",
      "Int64Index: 3436244 entries, 0 to 5095269\n",
      "Data columns (total 35 columns):\n",
      " #   Column                   Dtype  \n",
      "---  ------                   -----  \n",
      " 0   CO_MUNICIPIO_RESIDENCIA  int64  \n",
      " 1   CO_UF_RESIDENCIA         int64  \n",
      " 2   NU_IDADE                 int64  \n",
      " 3   TP_SEXO                  object \n",
      " 4   TP_COR_RACA              int64  \n",
      " 5   TP_ESCOLA                int64  \n",
      " 6   NU_NOTA_CN               float64\n",
      " 7   NU_NOTA_CH               float64\n",
      " 8   NU_NOTA_REDACAO          float64\n",
      " 9   NU_NOTA_MT               float64\n",
      " 10  NU_NOTA_LC               float64\n",
      " 11  Q005                     int64  \n",
      " 12  Q006                     int64  \n",
      " 13  Q007                     object \n",
      " 14  Q008                     object \n",
      " 15  Q009                     object \n",
      " 16  Q010                     object \n",
      " 17  Q011                     object \n",
      " 18  Q012                     object \n",
      " 19  Q013                     object \n",
      " 20  Q014                     object \n",
      " 21  Q015                     object \n",
      " 22  Q016                     object \n",
      " 23  Q017                     object \n",
      " 24  Q018                     object \n",
      " 25  Q019                     object \n",
      " 26  Q020                     object \n",
      " 27  Q021                     object \n",
      " 28  Q022                     object \n",
      " 29  Q023                     object \n",
      " 30  Q024                     object \n",
      " 31  Q025                     object \n",
      " 32  MAX_ESCOLARIDADE_PAIS    int64  \n",
      " 33  MAX_OCUPACAO_PAIS        int64  \n",
      " 34  RENDA_MORADOR            float64\n",
      "dtypes: float64(6), int64(9), object(20)\n",
      "memory usage: 943.8+ MB\n"
     ]
    }
   ],
   "source": [
    "dadosEnemInteresse_wo.info()"
   ]
  },
  {
   "cell_type": "code",
   "execution_count": 34,
   "metadata": {},
   "outputs": [
    {
     "data": {
      "text/plain": [
       "array(['CO_MUNICIPIO_RESIDENCIA', 'CO_UF_RESIDENCIA', 'NU_IDADE',\n",
       "       'TP_SEXO', 'TP_COR_RACA', 'TP_ESCOLA', 'NU_NOTA_CN', 'NU_NOTA_CH',\n",
       "       'NU_NOTA_REDACAO', 'NU_NOTA_MT', 'NU_NOTA_LC', 'Q005', 'Q006',\n",
       "       'Q007', 'Q008', 'Q009', 'Q010', 'Q011', 'Q012', 'Q013', 'Q014',\n",
       "       'Q015', 'Q016', 'Q017', 'Q018', 'Q019', 'Q020', 'Q021', 'Q022',\n",
       "       'Q023', 'Q024', 'Q025', 'MAX_ESCOLARIDADE_PAIS',\n",
       "       'MAX_OCUPACAO_PAIS', 'RENDA_MORADOR'], dtype=object)"
      ]
     },
     "execution_count": 34,
     "metadata": {},
     "output_type": "execute_result"
    }
   ],
   "source": [
    "dadosEnemInteresse_wo.columns.values"
   ]
  },
  {
   "cell_type": "code",
   "execution_count": 35,
   "metadata": {},
   "outputs": [],
   "source": [
    "features = ['CO_MUNICIPIO_RESIDENCIA', 'CO_UF_RESIDENCIA', 'NU_IDADE', 'TP_COR_RACA', 'TP_ESCOLA',\n",
    "            'NU_NOTA_CN', 'NU_NOTA_CH', 'NU_NOTA_REDACAO', 'NU_NOTA_MT', 'NU_NOTA_LC',\n",
    "            'Q005', 'Q006', 'MAX_ESCOLARIDADE_PAIS', 'MAX_OCUPACAO_PAIS', 'RENDA_MORADOR'] # Apenas as features numéricas"
   ]
  },
  {
   "cell_type": "code",
   "execution_count": 36,
   "metadata": {},
   "outputs": [
    {
     "data": {
      "image/png": "[encoded data removed]",
      "text/plain": [
       "<Figure size 1152x720 with 15 Axes>"
      ]
     },
     "metadata": {
      "needs_background": "light"
     },
     "output_type": "display_data"
    }
   ],
   "source": [
    "# Visualizando os outliers de forma gráfica\n",
    "plt.figure(figsize=(16,10))\n",
    "\n",
    "for i,col in enumerate(features):    \n",
    "    plt.subplot(3,5,i + 1)\n",
    "    sns.boxplot(y=col, data=dadosEnemInteresse_wo)\n",
    "\n",
    "plt.tight_layout()\n",
    "\n",
    "plt.show()"
   ]
  },
  {
   "cell_type": "code",
   "execution_count": 37,
   "metadata": {},
   "outputs": [],
   "source": [
    "# Algumas colunas estão com o tipo Inteiro, mas não faz sentido remover o outliers dessas features\n",
    "# por isso iremos passa-lás para o tipo String\n",
    "\n",
    "dadosEnemInteresse_wo['CO_UF_RESIDENCIA'] = dadosEnemInteresse_wo['CO_UF_RESIDENCIA'].astype(str)\n",
    "dadosEnemInteresse_wo['CO_MUNICIPIO_RESIDENCIA'] = dadosEnemInteresse_wo['CO_MUNICIPIO_RESIDENCIA'].astype(str)\n",
    "dadosEnemInteresse_wo['TP_COR_RACA'] = dadosEnemInteresse_wo['TP_COR_RACA'].astype(str)\n",
    "dadosEnemInteresse_wo['TP_ESCOLA'] = dadosEnemInteresse_wo['TP_ESCOLA'].astype(str)"
   ]
  },
  {
   "cell_type": "code",
   "execution_count": 38,
   "metadata": {},
   "outputs": [],
   "source": [
    "# update all the outliers in all the columns in a dataset with the interquartile range\n",
    "\n",
    "def fixoutliers(x):\n",
    "\n",
    "    ##Get all the column name from the input dataframe x\n",
    "    xColumnNames=x.columns\n",
    "    #print(xColumnNames)\n",
    "    #for j in df2ColumnNames:\n",
    "\n",
    "    for j in xColumnNames:\n",
    "        try:\n",
    "            #print(\"colnames \",j)\n",
    "            xy=x[j]    \n",
    "            mydata=pd.DataFrame()\n",
    "            #print(xy)\n",
    "            updated=[]\n",
    "            Q1,Q3=np.percentile(xy,[25,75])\n",
    "            IQR=Q3-Q1\n",
    "            minimum=Q1-1.5*IQR\n",
    "            maximum=Q3+1.5*IQR\n",
    "            for i in xy:\n",
    "                if(i>maximum):\n",
    "                    #print(\"Entering maxim\")\n",
    "                    i=maximum\n",
    "                    updated.append(i)\n",
    "                elif(i<minimum):\n",
    "                    #print(\"enterinf minimum\")\n",
    "                    i=minimum\n",
    "                    updated.append(i)\n",
    "                else:\n",
    "                    updated.append(i)\n",
    "            x[j]=updated\n",
    "        except:\n",
    "            continue\n",
    "    return x"
   ]
  },
  {
   "cell_type": "code",
   "execution_count": 39,
   "metadata": {},
   "outputs": [
    {
     "data": {
      "text/html": [
       "<div>\n",
       "<style scoped>\n",
       "    .dataframe tbody tr th:only-of-type {\n",
       "        vertical-align: middle;\n",
       "    }\n",
       "\n",
       "    .dataframe tbody tr th {\n",
       "        vertical-align: top;\n",
       "    }\n",
       "\n",
       "    .dataframe thead th {\n",
       "        text-align: right;\n",
       "    }\n",
       "</style>\n",
       "<table border=\"1\" class=\"dataframe\">\n",
       "  <thead>\n",
       "    <tr style=\"text-align: right;\">\n",
       "      <th></th>\n",
       "      <th>CO_MUNICIPIO_RESIDENCIA</th>\n",
       "      <th>CO_UF_RESIDENCIA</th>\n",
       "      <th>NU_IDADE</th>\n",
       "      <th>TP_SEXO</th>\n",
       "      <th>TP_COR_RACA</th>\n",
       "      <th>TP_ESCOLA</th>\n",
       "      <th>NU_NOTA_CN</th>\n",
       "      <th>NU_NOTA_CH</th>\n",
       "      <th>NU_NOTA_REDACAO</th>\n",
       "      <th>NU_NOTA_MT</th>\n",
       "      <th>...</th>\n",
       "      <th>Q019</th>\n",
       "      <th>Q020</th>\n",
       "      <th>Q021</th>\n",
       "      <th>Q022</th>\n",
       "      <th>Q023</th>\n",
       "      <th>Q024</th>\n",
       "      <th>Q025</th>\n",
       "      <th>MAX_ESCOLARIDADE_PAIS</th>\n",
       "      <th>MAX_OCUPACAO_PAIS</th>\n",
       "      <th>RENDA_MORADOR</th>\n",
       "    </tr>\n",
       "  </thead>\n",
       "  <tbody>\n",
       "    <tr>\n",
       "      <th>0</th>\n",
       "      <td>1506807</td>\n",
       "      <td>15</td>\n",
       "      <td>21.0</td>\n",
       "      <td>M</td>\n",
       "      <td>3</td>\n",
       "      <td>1</td>\n",
       "      <td>472.9</td>\n",
       "      <td>466.0</td>\n",
       "      <td>780.0</td>\n",
       "      <td>369.1</td>\n",
       "      <td>...</td>\n",
       "      <td>C</td>\n",
       "      <td>B</td>\n",
       "      <td>A</td>\n",
       "      <td>D</td>\n",
       "      <td>A</td>\n",
       "      <td>B</td>\n",
       "      <td>A</td>\n",
       "      <td>4</td>\n",
       "      <td>0</td>\n",
       "      <td>142.571429</td>\n",
       "    </tr>\n",
       "    <tr>\n",
       "      <th>1</th>\n",
       "      <td>1504059</td>\n",
       "      <td>15</td>\n",
       "      <td>16.0</td>\n",
       "      <td>F</td>\n",
       "      <td>3</td>\n",
       "      <td>1</td>\n",
       "      <td>358.9</td>\n",
       "      <td>495.4</td>\n",
       "      <td>600.0</td>\n",
       "      <td>416.5</td>\n",
       "      <td>...</td>\n",
       "      <td>B</td>\n",
       "      <td>B</td>\n",
       "      <td>A</td>\n",
       "      <td>B</td>\n",
       "      <td>A</td>\n",
       "      <td>A</td>\n",
       "      <td>A</td>\n",
       "      <td>4</td>\n",
       "      <td>0</td>\n",
       "      <td>199.600000</td>\n",
       "    </tr>\n",
       "    <tr>\n",
       "      <th>2</th>\n",
       "      <td>1505502</td>\n",
       "      <td>15</td>\n",
       "      <td>18.0</td>\n",
       "      <td>F</td>\n",
       "      <td>1</td>\n",
       "      <td>3</td>\n",
       "      <td>574.2</td>\n",
       "      <td>538.7</td>\n",
       "      <td>640.0</td>\n",
       "      <td>571.5</td>\n",
       "      <td>...</td>\n",
       "      <td>D</td>\n",
       "      <td>B</td>\n",
       "      <td>B</td>\n",
       "      <td>D</td>\n",
       "      <td>A</td>\n",
       "      <td>C</td>\n",
       "      <td>B</td>\n",
       "      <td>4</td>\n",
       "      <td>3</td>\n",
       "      <td>333.000000</td>\n",
       "    </tr>\n",
       "    <tr>\n",
       "      <th>5</th>\n",
       "      <td>1500800</td>\n",
       "      <td>15</td>\n",
       "      <td>29.5</td>\n",
       "      <td>M</td>\n",
       "      <td>1</td>\n",
       "      <td>1</td>\n",
       "      <td>522.0</td>\n",
       "      <td>592.6</td>\n",
       "      <td>580.0</td>\n",
       "      <td>605.3</td>\n",
       "      <td>...</td>\n",
       "      <td>B</td>\n",
       "      <td>A</td>\n",
       "      <td>A</td>\n",
       "      <td>D</td>\n",
       "      <td>A</td>\n",
       "      <td>A</td>\n",
       "      <td>A</td>\n",
       "      <td>2</td>\n",
       "      <td>3</td>\n",
       "      <td>199.800000</td>\n",
       "    </tr>\n",
       "    <tr>\n",
       "      <th>6</th>\n",
       "      <td>1504208</td>\n",
       "      <td>15</td>\n",
       "      <td>29.5</td>\n",
       "      <td>F</td>\n",
       "      <td>3</td>\n",
       "      <td>1</td>\n",
       "      <td>407.4</td>\n",
       "      <td>480.1</td>\n",
       "      <td>360.0</td>\n",
       "      <td>581.5</td>\n",
       "      <td>...</td>\n",
       "      <td>B</td>\n",
       "      <td>A</td>\n",
       "      <td>A</td>\n",
       "      <td>B</td>\n",
       "      <td>A</td>\n",
       "      <td>A</td>\n",
       "      <td>B</td>\n",
       "      <td>1</td>\n",
       "      <td>0</td>\n",
       "      <td>249.750000</td>\n",
       "    </tr>\n",
       "    <tr>\n",
       "      <th>...</th>\n",
       "      <td>...</td>\n",
       "      <td>...</td>\n",
       "      <td>...</td>\n",
       "      <td>...</td>\n",
       "      <td>...</td>\n",
       "      <td>...</td>\n",
       "      <td>...</td>\n",
       "      <td>...</td>\n",
       "      <td>...</td>\n",
       "      <td>...</td>\n",
       "      <td>...</td>\n",
       "      <td>...</td>\n",
       "      <td>...</td>\n",
       "      <td>...</td>\n",
       "      <td>...</td>\n",
       "      <td>...</td>\n",
       "      <td>...</td>\n",
       "      <td>...</td>\n",
       "      <td>...</td>\n",
       "      <td>...</td>\n",
       "      <td>...</td>\n",
       "    </tr>\n",
       "    <tr>\n",
       "      <th>5095261</th>\n",
       "      <td>2927408</td>\n",
       "      <td>29</td>\n",
       "      <td>27.0</td>\n",
       "      <td>F</td>\n",
       "      <td>2</td>\n",
       "      <td>1</td>\n",
       "      <td>486.7</td>\n",
       "      <td>457.8</td>\n",
       "      <td>280.0</td>\n",
       "      <td>488.5</td>\n",
       "      <td>...</td>\n",
       "      <td>B</td>\n",
       "      <td>A</td>\n",
       "      <td>B</td>\n",
       "      <td>C</td>\n",
       "      <td>A</td>\n",
       "      <td>B</td>\n",
       "      <td>B</td>\n",
       "      <td>3</td>\n",
       "      <td>1</td>\n",
       "      <td>332.666667</td>\n",
       "    </tr>\n",
       "    <tr>\n",
       "      <th>5095262</th>\n",
       "      <td>2928604</td>\n",
       "      <td>29</td>\n",
       "      <td>22.0</td>\n",
       "      <td>F</td>\n",
       "      <td>2</td>\n",
       "      <td>1</td>\n",
       "      <td>454.2</td>\n",
       "      <td>542.7</td>\n",
       "      <td>400.0</td>\n",
       "      <td>504.7</td>\n",
       "      <td>...</td>\n",
       "      <td>B</td>\n",
       "      <td>B</td>\n",
       "      <td>A</td>\n",
       "      <td>E</td>\n",
       "      <td>B</td>\n",
       "      <td>B</td>\n",
       "      <td>B</td>\n",
       "      <td>4</td>\n",
       "      <td>2</td>\n",
       "      <td>142.714286</td>\n",
       "    </tr>\n",
       "    <tr>\n",
       "      <th>5095263</th>\n",
       "      <td>2906808</td>\n",
       "      <td>29</td>\n",
       "      <td>29.5</td>\n",
       "      <td>M</td>\n",
       "      <td>3</td>\n",
       "      <td>1</td>\n",
       "      <td>450.4</td>\n",
       "      <td>469.0</td>\n",
       "      <td>580.0</td>\n",
       "      <td>552.0</td>\n",
       "      <td>...</td>\n",
       "      <td>B</td>\n",
       "      <td>B</td>\n",
       "      <td>A</td>\n",
       "      <td>C</td>\n",
       "      <td>A</td>\n",
       "      <td>B</td>\n",
       "      <td>B</td>\n",
       "      <td>1</td>\n",
       "      <td>1</td>\n",
       "      <td>499.500000</td>\n",
       "    </tr>\n",
       "    <tr>\n",
       "      <th>5095268</th>\n",
       "      <td>2927408</td>\n",
       "      <td>29</td>\n",
       "      <td>16.0</td>\n",
       "      <td>M</td>\n",
       "      <td>1</td>\n",
       "      <td>1</td>\n",
       "      <td>458.8</td>\n",
       "      <td>380.6</td>\n",
       "      <td>800.0</td>\n",
       "      <td>396.7</td>\n",
       "      <td>...</td>\n",
       "      <td>B</td>\n",
       "      <td>B</td>\n",
       "      <td>A</td>\n",
       "      <td>C</td>\n",
       "      <td>A</td>\n",
       "      <td>B</td>\n",
       "      <td>B</td>\n",
       "      <td>6</td>\n",
       "      <td>4</td>\n",
       "      <td>831.833333</td>\n",
       "    </tr>\n",
       "    <tr>\n",
       "      <th>5095269</th>\n",
       "      <td>2914802</td>\n",
       "      <td>29</td>\n",
       "      <td>25.0</td>\n",
       "      <td>F</td>\n",
       "      <td>2</td>\n",
       "      <td>1</td>\n",
       "      <td>451.6</td>\n",
       "      <td>473.5</td>\n",
       "      <td>280.0</td>\n",
       "      <td>470.2</td>\n",
       "      <td>...</td>\n",
       "      <td>B</td>\n",
       "      <td>B</td>\n",
       "      <td>A</td>\n",
       "      <td>B</td>\n",
       "      <td>A</td>\n",
       "      <td>B</td>\n",
       "      <td>B</td>\n",
       "      <td>3</td>\n",
       "      <td>2</td>\n",
       "      <td>998.000000</td>\n",
       "    </tr>\n",
       "  </tbody>\n",
       "</table>\n",
       "<p>3436244 rows × 35 columns</p>\n",
       "</div>"
      ],
      "text/plain": [
       "        CO_MUNICIPIO_RESIDENCIA CO_UF_RESIDENCIA  NU_IDADE TP_SEXO  \\\n",
       "0                       1506807               15      21.0       M   \n",
       "1                       1504059               15      16.0       F   \n",
       "2                       1505502               15      18.0       F   \n",
       "5                       1500800               15      29.5       M   \n",
       "6                       1504208               15      29.5       F   \n",
       "...                         ...              ...       ...     ...   \n",
       "5095261                 2927408               29      27.0       F   \n",
       "5095262                 2928604               29      22.0       F   \n",
       "5095263                 2906808               29      29.5       M   \n",
       "5095268                 2927408               29      16.0       M   \n",
       "5095269                 2914802               29      25.0       F   \n",
       "\n",
       "        TP_COR_RACA TP_ESCOLA  NU_NOTA_CN  NU_NOTA_CH  NU_NOTA_REDACAO  \\\n",
       "0                 3         1       472.9       466.0            780.0   \n",
       "1                 3         1       358.9       495.4            600.0   \n",
       "2                 1         3       574.2       538.7            640.0   \n",
       "5                 1         1       522.0       592.6            580.0   \n",
       "6                 3         1       407.4       480.1            360.0   \n",
       "...             ...       ...         ...         ...              ...   \n",
       "5095261           2         1       486.7       457.8            280.0   \n",
       "5095262           2         1       454.2       542.7            400.0   \n",
       "5095263           3         1       450.4       469.0            580.0   \n",
       "5095268           1         1       458.8       380.6            800.0   \n",
       "5095269           2         1       451.6       473.5            280.0   \n",
       "\n",
       "         NU_NOTA_MT  ...  Q019  Q020  Q021 Q022 Q023 Q024 Q025  \\\n",
       "0             369.1  ...     C     B     A    D    A    B    A   \n",
       "1             416.5  ...     B     B     A    B    A    A    A   \n",
       "2             571.5  ...     D     B     B    D    A    C    B   \n",
       "5             605.3  ...     B     A     A    D    A    A    A   \n",
       "6             581.5  ...     B     A     A    B    A    A    B   \n",
       "...             ...  ...   ...   ...   ...  ...  ...  ...  ...   \n",
       "5095261       488.5  ...     B     A     B    C    A    B    B   \n",
       "5095262       504.7  ...     B     B     A    E    B    B    B   \n",
       "5095263       552.0  ...     B     B     A    C    A    B    B   \n",
       "5095268       396.7  ...     B     B     A    C    A    B    B   \n",
       "5095269       470.2  ...     B     B     A    B    A    B    B   \n",
       "\n",
       "        MAX_ESCOLARIDADE_PAIS MAX_OCUPACAO_PAIS RENDA_MORADOR  \n",
       "0                           4                 0    142.571429  \n",
       "1                           4                 0    199.600000  \n",
       "2                           4                 3    333.000000  \n",
       "5                           2                 3    199.800000  \n",
       "6                           1                 0    249.750000  \n",
       "...                       ...               ...           ...  \n",
       "5095261                     3                 1    332.666667  \n",
       "5095262                     4                 2    142.714286  \n",
       "5095263                     1                 1    499.500000  \n",
       "5095268                     6                 4    831.833333  \n",
       "5095269                     3                 2    998.000000  \n",
       "\n",
       "[3436244 rows x 35 columns]"
      ]
     },
     "execution_count": 39,
     "metadata": {},
     "output_type": "execute_result"
    }
   ],
   "source": [
    "fixoutliers(dadosEnemInteresse_wo)"
   ]
  },
  {
   "cell_type": "code",
   "execution_count": 40,
   "metadata": {},
   "outputs": [
    {
     "data": {
      "image/png": "[encoded data removed]",
      "text/plain": [
       "<Figure size 1152x720 with 11 Axes>"
      ]
     },
     "metadata": {
      "needs_background": "light"
     },
     "output_type": "display_data"
    }
   ],
   "source": [
    "features = ['NU_IDADE', 'NU_NOTA_CN', 'NU_NOTA_CH', 'NU_NOTA_REDACAO', 'NU_NOTA_MT', 'NU_NOTA_LC',\n",
    "            'Q005', 'Q006', 'MAX_ESCOLARIDADE_PAIS', 'MAX_OCUPACAO_PAIS', 'RENDA_MORADOR'] # Apenas as features numéricas\n",
    "\n",
    "plt.figure(figsize=(16,10))\n",
    "\n",
    "for i,col in enumerate(features):    \n",
    "    plt.subplot(2,6,i + 1)\n",
    "    sns.boxplot(y=col, data=dadosEnemInteresse_wo)\n",
    "\n",
    "plt.tight_layout()\n",
    "\n",
    "plt.show()"
   ]
  },
  {
   "cell_type": "code",
   "execution_count": 41,
   "metadata": {},
   "outputs": [],
   "source": [
    "# Redefinindo a tipagem dos dados que foi feita nos passos anteriores\n",
    "dadosEnemInteresse_wo['TP_COR_RACA'] = dadosEnemInteresse_wo['TP_COR_RACA'].astype(float)\n",
    "dadosEnemInteresse_wo['CO_UF_RESIDENCIA'] = dadosEnemInteresse_wo['CO_UF_RESIDENCIA'].astype(int)\n",
    "dadosEnemInteresse_wo['CO_MUNICIPIO_RESIDENCIA'] = dadosEnemInteresse_wo['CO_MUNICIPIO_RESIDENCIA'].astype(int)\n",
    "dadosEnemInteresse_wo['TP_ESCOLA'] = dadosEnemInteresse_wo['TP_ESCOLA'].astype(int)"
   ]
  },
  {
   "cell_type": "markdown",
   "metadata": {},
   "source": [
    "#### Fim Analise Outliers"
   ]
  },
  {
   "cell_type": "markdown",
   "metadata": {},
   "source": [
    "#### Mapeando os tipos de variáveis"
   ]
  },
  {
   "cell_type": "code",
   "execution_count": 42,
   "metadata": {},
   "outputs": [
    {
     "name": "stdout",
     "output_type": "stream",
     "text": [
      "<class 'pandas.core.frame.DataFrame'>\n",
      "Int64Index: 3436244 entries, 0 to 5095269\n",
      "Data columns (total 35 columns):\n",
      " #   Column                   Dtype  \n",
      "---  ------                   -----  \n",
      " 0   CO_MUNICIPIO_RESIDENCIA  int32  \n",
      " 1   CO_UF_RESIDENCIA         int32  \n",
      " 2   NU_IDADE                 float64\n",
      " 3   TP_SEXO                  object \n",
      " 4   TP_COR_RACA              float64\n",
      " 5   TP_ESCOLA                int32  \n",
      " 6   NU_NOTA_CN               float64\n",
      " 7   NU_NOTA_CH               float64\n",
      " 8   NU_NOTA_REDACAO          float64\n",
      " 9   NU_NOTA_MT               float64\n",
      " 10  NU_NOTA_LC               float64\n",
      " 11  Q005                     float64\n",
      " 12  Q006                     float64\n",
      " 13  Q007                     object \n",
      " 14  Q008                     object \n",
      " 15  Q009                     object \n",
      " 16  Q010                     object \n",
      " 17  Q011                     object \n",
      " 18  Q012                     object \n",
      " 19  Q013                     object \n",
      " 20  Q014                     object \n",
      " 21  Q015                     object \n",
      " 22  Q016                     object \n",
      " 23  Q017                     object \n",
      " 24  Q018                     object \n",
      " 25  Q019                     object \n",
      " 26  Q020                     object \n",
      " 27  Q021                     object \n",
      " 28  Q022                     object \n",
      " 29  Q023                     object \n",
      " 30  Q024                     object \n",
      " 31  Q025                     object \n",
      " 32  MAX_ESCOLARIDADE_PAIS    int64  \n",
      " 33  MAX_OCUPACAO_PAIS        int64  \n",
      " 34  RENDA_MORADOR            float64\n",
      "dtypes: float64(10), int32(3), int64(2), object(20)\n",
      "memory usage: 904.5+ MB\n"
     ]
    }
   ],
   "source": [
    "dadosEnemInteresse_wo.info()"
   ]
  },
  {
   "cell_type": "code",
   "execution_count": 43,
   "metadata": {},
   "outputs": [],
   "source": [
    "# Qualitativas\n",
    "    # Nominais (Profissão, Sexo, Religião)\n",
    "    # Ordinal (Escolaridade, Estágio da doença, classe social)\n",
    "\n",
    "# Quantitativas\n",
    "    # Discreta (Nº de filhos, Nº de acessos a plataforma)\n",
    "    # Continua (Altura, Peso, Salário)"
   ]
  },
  {
   "cell_type": "code",
   "execution_count": 44,
   "metadata": {},
   "outputs": [
    {
     "data": {
      "text/plain": [
       "(3436244, 35)"
      ]
     },
     "execution_count": 44,
     "metadata": {},
     "output_type": "execute_result"
    }
   ],
   "source": [
    "dadosEnemInteresse_wo.shape"
   ]
  },
  {
   "cell_type": "code",
   "execution_count": 45,
   "metadata": {},
   "outputs": [],
   "source": [
    "# Qualitativas Nominais (Profissão, Sexo, Religião, Estado Civil, Cor dos olhos, Presença ou Ausência)\n",
    "# valores que expressam atributos, sem nenhum tipo de ordem\n",
    "\n",
    "# One-Hot-Encoding \n",
    "# Quando não existe uma ordem pré estabelecida \n",
    "# (red, blue, green) -> (0, 0, 1), (0, 1, 0), (1, 0, 0) \n",
    "\n",
    "nominal_features = ['TP_SEXO', 'TP_COR_RACA', 'TP_ESCOLA',   \n",
    "                    'Q018', 'Q020', 'Q021', 'Q023', 'Q025']"
   ]
  },
  {
   "cell_type": "code",
   "execution_count": 46,
   "metadata": {},
   "outputs": [],
   "source": [
    "# Qualitativas Ordinais (Escolaridade, Estágio da doença, classe social)\n",
    "# valores que expressam atributos, porém com algum tipo de ordem, ou grau.\n",
    "\n",
    "# Ordinal Encoding (quando existe uma ordem)\n",
    "# (Ensino fundamental, Ensino Médio, Faculdade) -> (0, 1, 2)\n",
    "\n",
    "ordinal_features = ['Q007', 'Q008', 'Q009', 'Q010', 'Q011', 'Q012', \n",
    "                    'Q013', 'Q014', 'Q015', 'Q016', 'Q017', 'Q019', 'Q022', \n",
    "                    'Q024']"
   ]
  },
  {
   "cell_type": "code",
   "execution_count": 47,
   "metadata": {},
   "outputs": [],
   "source": [
    "numerical_features = ['CO_MUNICIPIO_RESIDENCIA','CO_UF_RESIDENCIA',\n",
    "                      'NU_IDADE', 'NU_NOTA_CN', 'NU_NOTA_CH', 'NU_NOTA_MT', 'NU_NOTA_LC', \n",
    "                      'Q005', 'Q006', 'MAX_ESCOLARIDADE_PAIS', 'MAX_OCUPACAO_PAIS', 'RENDA_MORADOR']"
   ]
  },
  {
   "cell_type": "markdown",
   "metadata": {},
   "source": [
    "#### Criação dos pipelines que irão transformar as features"
   ]
  },
  {
   "cell_type": "code",
   "execution_count": 48,
   "metadata": {},
   "outputs": [],
   "source": [
    "# Pipeline para features nominais \n",
    "nominal_transformer = Pipeline(steps=[\n",
    "    ('imputer', SimpleImputer(strategy='most_frequent')), # dados Missing serão substituidos pelo mais frequente\n",
    "    ('onehot', OneHotEncoder(handle_unknown='error')) # (red, blue, green) -> (0, 0, 1), (0, 1, 0), (1, 0, 0) \n",
    "])"
   ]
  },
  {
   "cell_type": "code",
   "execution_count": 49,
   "metadata": {},
   "outputs": [],
   "source": [
    "# Pipeline para features ordinais\n",
    "ordinal_transformer = Pipeline(steps=[\n",
    "    ('imputer', SimpleImputer(strategy='most_frequent')), # dados Missing serão substituidos pelo mais frequente\n",
    "    ('ordinal', OrdinalEncoder(handle_unknown='error')) #(Ensino fundamental, Ensino Médio, Faculdade) -> (0, 1, 2)\n",
    "])"
   ]
  },
  {
   "cell_type": "code",
   "execution_count": 50,
   "metadata": {},
   "outputs": [],
   "source": [
    "# Pipeline para features numericas \n",
    "numerical_transformer = Pipeline(steps=[\n",
    "    ('imputer', SimpleImputer(strategy='median')), # dados Missing serão substituidos pela mediana\n",
    "])"
   ]
  },
  {
   "cell_type": "markdown",
   "metadata": {},
   "source": [
    "#### Criação do pré-processador"
   ]
  },
  {
   "cell_type": "code",
   "execution_count": 51,
   "metadata": {},
   "outputs": [],
   "source": [
    "preprocessor = ColumnTransformer(\n",
    "                transformers=[\n",
    "                    ('num', numerical_transformer, numerical_features),\n",
    "                    ('cat_nom', nominal_transformer, nominal_features),\n",
    "                    ('ord_nom', ordinal_transformer, ordinal_features)\n",
    "                ])"
   ]
  },
  {
   "cell_type": "code",
   "execution_count": 52,
   "metadata": {},
   "outputs": [],
   "source": [
    "# MinMaxScaler - Normalização das features\n",
    "# StandardScaler - A ideia por trás do StandardScaler é que ele transformará seus \n",
    "# dados de forma que sua distribuição tenha um valor médio 0 e desvio padrão de 1.\n",
    "\n",
    "pipe = Pipeline(steps=[\n",
    "        ('preprocessor', preprocessor),\n",
    "        ('minmaxscaler', MinMaxScaler()),\n",
    "        ('stdscaler',  StandardScaler()),\n",
    "        ('XGBR', XGBRegressor())\n",
    "])"
   ]
  },
  {
   "cell_type": "markdown",
   "metadata": {},
   "source": [
    "#### Separando os dados de treino e de teste"
   ]
  },
  {
   "cell_type": "code",
   "execution_count": 53,
   "metadata": {},
   "outputs": [],
   "source": [
    "X = dadosEnemInteresse_wo.drop(['NU_NOTA_REDACAO'], axis=1)\n",
    "y = dadosEnemInteresse_wo.NU_NOTA_REDACAO"
   ]
  },
  {
   "cell_type": "code",
   "execution_count": 54,
   "metadata": {},
   "outputs": [],
   "source": [
    "# Separando os dados de treino e teste\n",
    "X_treino, X_teste, y_treino, y_teste = train_test_split(X, y, test_size = 0.30, random_state = 0)"
   ]
  },
  {
   "cell_type": "markdown",
   "metadata": {},
   "source": [
    "#### Treinando o modelo"
   ]
  },
  {
   "cell_type": "code",
   "execution_count": null,
   "metadata": {},
   "outputs": [],
   "source": [
    "xgbr_model = pipe.fit(X_treino, y_treino)"
   ]
  },
  {
   "cell_type": "markdown",
   "metadata": {},
   "source": [
    "#### Permutation Importance"
   ]
  },
  {
   "cell_type": "code",
   "execution_count": null,
   "metadata": {},
   "outputs": [],
   "source": [
    "result = permutation_importance(pipe, X_treino, y_treino, n_repeats=10,\n",
    "                                random_state=42, n_jobs=2)"
   ]
  },
  {
   "cell_type": "code",
   "execution_count": null,
   "metadata": {},
   "outputs": [],
   "source": [
    "sorted_idx = result.importances_mean.argsort()\n",
    "\n",
    "fig, ax = plt.subplots( figsize=(10,10))\n",
    "ax.boxplot(result.importances[sorted_idx].T,\n",
    "           vert=False, labels=X_teste.columns[sorted_idx])\n",
    "ax.set_title(\"Permutation Importances (test set)\")\n",
    "fig.tight_layout()\n",
    "plt.show()"
   ]
  },
  {
   "cell_type": "markdown",
   "metadata": {},
   "source": [
    "#### Hyperparameter optimization using RandomizedSearchCV"
   ]
  },
  {
   "cell_type": "code",
   "execution_count": null,
   "metadata": {},
   "outputs": [],
   "source": [
    "grid_param = [\n",
    "        {\n",
    "             \"XGBR__learning_rate\"    : [0.05, 0.10, 0.15, 0.20, 0.25, 0.30 ] ,\n",
    "             \"XGBR__max_depth\"        : [ 3, 4, 5, 6, 8, 10, 12, 15],\n",
    "             \"XGBR__min_child_weight\" : [ 1, 3, 5, 7 ],\n",
    "             \"XGBR__gamma\"            : [ 0.0, 0.1, 0.2 , 0.3, 0.4 ],\n",
    "             \"XGBR__colsample_bytree\" : [ 0.3, 0.4, 0.5 , 0.7 ]\n",
    "    }\n",
    "]"
   ]
  },
  {
   "cell_type": "code",
   "execution_count": null,
   "metadata": {},
   "outputs": [],
   "source": [
    "random_search = RandomizedSearchCV(pipe, grid_param, n_iter=5, scoring='neg_mean_absolute_error', n_jobs=-1, cv=5, verbose=3)"
   ]
  },
  {
   "cell_type": "code",
   "execution_count": null,
   "metadata": {},
   "outputs": [],
   "source": [
    "best_model = random_search.fit(X_treino, y_treino)"
   ]
  },
  {
   "cell_type": "code",
   "execution_count": null,
   "metadata": {},
   "outputs": [],
   "source": [
    "best_model.best_params_"
   ]
  },
  {
   "cell_type": "code",
   "execution_count": null,
   "metadata": {},
   "outputs": [],
   "source": [
    "best_model.best_estimator_[3]"
   ]
  },
  {
   "cell_type": "markdown",
   "metadata": {},
   "source": [
    "#### Refinando o modelo"
   ]
  },
  {
   "cell_type": "code",
   "execution_count": 55,
   "metadata": {},
   "outputs": [],
   "source": [
    "# Com base nos resultados obtidos através do permutation importance e na otimização dos parametros iremos refinar o nosso modelo\n",
    "# e comparar com os resultados obtidos no baseline"
   ]
  },
  {
   "cell_type": "code",
   "execution_count": 56,
   "metadata": {},
   "outputs": [],
   "source": [
    "# Só deixaremos as 20 features mais importante de acordo com o Permutation Importance\n",
    "\n",
    "nominal_features_final = ['TP_SEXO', 'TP_COR_RACA', 'TP_ESCOLA', 'Q025']\n",
    "\n",
    "ordinal_features_final = ['Q008', 'Q010', 'Q011', 'Q014', 'Q022', 'Q024']\n",
    "\n",
    "numerical_features_final = ['CO_MUNICIPIO_RESIDENCIA', 'NU_IDADE', 'NU_NOTA_CN', \n",
    "                      'NU_NOTA_CH', 'NU_NOTA_MT', 'NU_NOTA_LC', 'Q006',\n",
    "                      'MAX_ESCOLARIDADE_PAIS', 'MAX_OCUPACAO_PAIS', 'RENDA_MORADOR']"
   ]
  },
  {
   "cell_type": "code",
   "execution_count": 57,
   "metadata": {},
   "outputs": [],
   "source": [
    "# Pipeline para features nominais \n",
    "nominal_transformer_final = Pipeline(steps=[\n",
    "    ('imputer', SimpleImputer(strategy='most_frequent')), # dados Missing serão substituidos pelo mais frequente\n",
    "    ('onehot', OneHotEncoder(handle_unknown='error')) # (red, blue, green) -> (0, 0, 1), (0, 1, 0), (1, 0, 0) \n",
    "])\n",
    "\n",
    "# Pipeline para features ordinais\n",
    "ordinal_transformer_final = Pipeline(steps=[\n",
    "    ('imputer', SimpleImputer(strategy='most_frequent')), # dados Missing serão substituidos pelo mais frequente\n",
    "    ('ordinal', OrdinalEncoder(handle_unknown='error')) #(Ensino fundamental, Ensino Médio, Faculdade) -> (0, 1, 2)\n",
    "])\n",
    "\n",
    "# Pipeline para features numericas \n",
    "numerical_transformer_final = Pipeline(steps=[\n",
    "    ('imputer', SimpleImputer(strategy='median')), # dados Missing serão substituidos pela mediana\n",
    "])"
   ]
  },
  {
   "cell_type": "code",
   "execution_count": 58,
   "metadata": {},
   "outputs": [],
   "source": [
    "preprocessor_final = ColumnTransformer(\n",
    "                transformers=[\n",
    "                    ('num', numerical_transformer_final, numerical_features_final),\n",
    "                    ('cat_nom', nominal_transformer_final, nominal_features_final),\n",
    "                    ('ord_nom', ordinal_transformer_final, ordinal_features_final)\n",
    "                ])"
   ]
  },
  {
   "cell_type": "code",
   "execution_count": 64,
   "metadata": {},
   "outputs": [],
   "source": [
    "pipe_final = Pipeline(steps=[\n",
    "        ('preprocessor', preprocessor_final),\n",
    "        ('minmaxscaler', MinMaxScaler()),\n",
    "        ('stdscaler',  StandardScaler()),\n",
    "        ('XGBR', XGBRegressor(base_score=0.5, booster='gbtree', colsample_bylevel=1,\n",
    "             colsample_bynode=1, colsample_bytree=0.5, gamma=0.1, gpu_id=-1,\n",
    "             importance_type='gain', interaction_constraints='',\n",
    "             learning_rate=0.1, max_delta_step=0, max_depth=10,\n",
    "             min_child_weight=3, missing=np.nan, monotone_constraints='()',\n",
    "             n_estimators=100, n_jobs=4, num_parallel_tree=1, random_state=0,\n",
    "             reg_alpha=0, reg_lambda=1, scale_pos_weight=1, subsample=1,\n",
    "             tree_method='exact', validate_parameters=1, verbosity=None))\n",
    "])"
   ]
  },
  {
   "cell_type": "code",
   "execution_count": 60,
   "metadata": {},
   "outputs": [],
   "source": [
    "dadosEnemInteresse_final = dadosEnemInteresse_wo.copy()"
   ]
  },
  {
   "cell_type": "code",
   "execution_count": 65,
   "metadata": {},
   "outputs": [],
   "source": [
    "features_final = ['TP_SEXO', 'TP_COR_RACA', 'TP_ESCOLA', 'Q025', \n",
    "                        'Q008', 'Q010', 'Q011', 'Q014', 'Q022', 'Q024', \n",
    "                        'CO_MUNICIPIO_RESIDENCIA', 'NU_IDADE', 'NU_NOTA_CN', \n",
    "                        'NU_NOTA_CH', 'NU_NOTA_MT', 'NU_NOTA_LC', 'Q006',\n",
    "                        'MAX_ESCOLARIDADE_PAIS', 'MAX_OCUPACAO_PAIS', 'RENDA_MORADOR']\n",
    "\n",
    "X_final = dadosEnemInteresse_final.filter(items=features_final)\n",
    "\n",
    "y_final = dadosEnemInteresse_final.NU_NOTA_REDACAO"
   ]
  },
  {
   "cell_type": "code",
   "execution_count": 70,
   "metadata": {},
   "outputs": [],
   "source": [
    "# Separando os dados de treino e teste\n",
    "X_treino_f, X_teste_f, y_treino_f, y_teste_f = train_test_split(X_final, y_final, test_size = 0.30, random_state = 0)"
   ]
  },
  {
   "cell_type": "code",
   "execution_count": 71,
   "metadata": {},
   "outputs": [
    {
     "data": {
      "text/plain": [
       "Pipeline(steps=[('preprocessor',\n",
       "                 ColumnTransformer(transformers=[('num',\n",
       "                                                  Pipeline(steps=[('imputer',\n",
       "                                                                   SimpleImputer(strategy='median'))]),\n",
       "                                                  ['CO_MUNICIPIO_RESIDENCIA',\n",
       "                                                   'NU_IDADE', 'NU_NOTA_CN',\n",
       "                                                   'NU_NOTA_CH', 'NU_NOTA_MT',\n",
       "                                                   'NU_NOTA_LC', 'Q006',\n",
       "                                                   'MAX_ESCOLARIDADE_PAIS',\n",
       "                                                   'MAX_OCUPACAO_PAIS',\n",
       "                                                   'RENDA_MORADOR']),\n",
       "                                                 ('cat_nom',\n",
       "                                                  Pipeline(steps=[('imputer',\n",
       "                                                                   SimpleImputer(strat...\n",
       "                              colsample_bytree=0.5, gamma=0.1, gpu_id=-1,\n",
       "                              importance_type='gain',\n",
       "                              interaction_constraints='', learning_rate=0.1,\n",
       "                              max_delta_step=0, max_depth=10,\n",
       "                              min_child_weight=3, missing=nan,\n",
       "                              monotone_constraints='()', n_estimators=100,\n",
       "                              n_jobs=4, num_parallel_tree=1, random_state=0,\n",
       "                              reg_alpha=0, reg_lambda=1, scale_pos_weight=1,\n",
       "                              subsample=1, tree_method='exact',\n",
       "                              validate_parameters=1, verbosity=None))])"
      ]
     },
     "execution_count": 71,
     "metadata": {},
     "output_type": "execute_result"
    }
   ],
   "source": [
    "pipe_final.fit(X_treino_f, y_treino_f)"
   ]
  },
  {
   "cell_type": "code",
   "execution_count": 74,
   "metadata": {},
   "outputs": [],
   "source": [
    "values_predictions = pipe_final.predict(X_teste_f)"
   ]
  },
  {
   "cell_type": "code",
   "execution_count": 85,
   "metadata": {},
   "outputs": [
    {
     "name": "stdout",
     "output_type": "stream",
     "text": [
      "MAE: 87.36552373124086\n",
      "RMSE: 112.22307268664092\n"
     ]
    }
   ],
   "source": [
    "print('MAE:', mean_absolute_error(y_teste_f, values_predictions))\n",
    "print('RMSE:', mean_squared_error(y_teste_f, values_predictions,  squared=False))"
   ]
  },
  {
   "cell_type": "code",
   "execution_count": 77,
   "metadata": {},
   "outputs": [
    {
     "data": {
      "text/html": [
       "<div>\n",
       "<style scoped>\n",
       "    .dataframe tbody tr th:only-of-type {\n",
       "        vertical-align: middle;\n",
       "    }\n",
       "\n",
       "    .dataframe tbody tr th {\n",
       "        vertical-align: top;\n",
       "    }\n",
       "\n",
       "    .dataframe thead th {\n",
       "        text-align: right;\n",
       "    }\n",
       "</style>\n",
       "<table border=\"1\" class=\"dataframe\">\n",
       "  <thead>\n",
       "    <tr style=\"text-align: right;\">\n",
       "      <th></th>\n",
       "      <th>Y_teste</th>\n",
       "      <th>Y_predictions</th>\n",
       "    </tr>\n",
       "  </thead>\n",
       "  <tbody>\n",
       "    <tr>\n",
       "      <th>1417878</th>\n",
       "      <td>460.0</td>\n",
       "      <td>551.491150</td>\n",
       "    </tr>\n",
       "    <tr>\n",
       "      <th>2417693</th>\n",
       "      <td>740.0</td>\n",
       "      <td>764.454102</td>\n",
       "    </tr>\n",
       "    <tr>\n",
       "      <th>2676389</th>\n",
       "      <td>640.0</td>\n",
       "      <td>743.572815</td>\n",
       "    </tr>\n",
       "    <tr>\n",
       "      <th>3110658</th>\n",
       "      <td>920.0</td>\n",
       "      <td>867.513306</td>\n",
       "    </tr>\n",
       "    <tr>\n",
       "      <th>495086</th>\n",
       "      <td>880.0</td>\n",
       "      <td>841.419617</td>\n",
       "    </tr>\n",
       "    <tr>\n",
       "      <th>...</th>\n",
       "      <td>...</td>\n",
       "      <td>...</td>\n",
       "    </tr>\n",
       "    <tr>\n",
       "      <th>1895333</th>\n",
       "      <td>580.0</td>\n",
       "      <td>469.849640</td>\n",
       "    </tr>\n",
       "    <tr>\n",
       "      <th>979602</th>\n",
       "      <td>560.0</td>\n",
       "      <td>494.875763</td>\n",
       "    </tr>\n",
       "    <tr>\n",
       "      <th>4368243</th>\n",
       "      <td>480.0</td>\n",
       "      <td>514.183105</td>\n",
       "    </tr>\n",
       "    <tr>\n",
       "      <th>2901276</th>\n",
       "      <td>940.0</td>\n",
       "      <td>920.269653</td>\n",
       "    </tr>\n",
       "    <tr>\n",
       "      <th>3708386</th>\n",
       "      <td>420.0</td>\n",
       "      <td>458.189026</td>\n",
       "    </tr>\n",
       "  </tbody>\n",
       "</table>\n",
       "<p>1030874 rows × 2 columns</p>\n",
       "</div>"
      ],
      "text/plain": [
       "         Y_teste  Y_predictions\n",
       "1417878    460.0     551.491150\n",
       "2417693    740.0     764.454102\n",
       "2676389    640.0     743.572815\n",
       "3110658    920.0     867.513306\n",
       "495086     880.0     841.419617\n",
       "...          ...            ...\n",
       "1895333    580.0     469.849640\n",
       "979602     560.0     494.875763\n",
       "4368243    480.0     514.183105\n",
       "2901276    940.0     920.269653\n",
       "3708386    420.0     458.189026\n",
       "\n",
       "[1030874 rows x 2 columns]"
      ]
     },
     "execution_count": 77,
     "metadata": {},
     "output_type": "execute_result"
    }
   ],
   "source": [
    "pd.DataFrame({'Y_teste': y_teste_f,\n",
    "            'Y_predictions': values_predictions})"
   ]
  },
  {
   "cell_type": "markdown",
   "metadata": {},
   "source": [
    "#### Utilizando validação cruzada para validação do modelo"
   ]
  },
  {
   "cell_type": "code",
   "execution_count": 94,
   "metadata": {},
   "outputs": [
    {
     "name": "stdout",
     "output_type": "stream",
     "text": [
      "87.2603940788915\n",
      "12569.500261530806\n"
     ]
    }
   ],
   "source": [
    "kfold = KFold(n_splits=5, random_state=0, shuffle=True)\n",
    "\n",
    "scoring = ['neg_mean_absolute_error', 'neg_mean_squared_error']\n",
    "\n",
    "for score in scoring:\n",
    "     print (-1 * cross_val_score(pipe_final, X_final, y_final, cv=kfold, scoring=score).mean())"
   ]
  },
  {
   "cell_type": "code",
   "execution_count": 95,
   "metadata": {},
   "outputs": [
    {
     "data": {
      "text/plain": [
       "112.11378265641922"
      ]
     },
     "execution_count": 95,
     "metadata": {},
     "output_type": "execute_result"
    }
   ],
   "source": [
    "np.sqrt(12569.500261530806)"
   ]
  },
  {
   "cell_type": "code",
   "execution_count": null,
   "metadata": {},
   "outputs": [],
   "source": []
  }
 ],
 "metadata": {
  "kernelspec": {
   "display_name": "Python 3",
   "language": "python",
   "name": "python3"
  },
  "language_info": {
   "codemirror_mode": {
    "name": "ipython",
    "version": 3
   },
   "file_extension": ".py",
   "mimetype": "text/x-python",
   "name": "python",
   "nbconvert_exporter": "python",
   "pygments_lexer": "ipython3",
   "version": "3.8.5"
  }
 },
 "nbformat": 4,
 "nbformat_minor": 4
}
