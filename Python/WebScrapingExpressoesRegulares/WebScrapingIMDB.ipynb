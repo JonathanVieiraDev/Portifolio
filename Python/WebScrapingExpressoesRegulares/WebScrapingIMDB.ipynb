{
 "cells": [
  {
   "cell_type": "code",
   "execution_count": 12,
   "metadata": {},
   "outputs": [],
   "source": [
    "import pandas as pd\n",
    "import urllib.request # Biblioteca usada para requisitar uma página de um web site\n",
    "from bs4 import BeautifulSoup "
   ]
  },
  {
   "cell_type": "code",
   "execution_count": 14,
   "metadata": {},
   "outputs": [],
   "source": [
    "# Verificar em https://www.imdb.com/robots.txt se a página permite ou não Web Scraping  \n",
    "\n",
    "# URl do filme 13 hours\n",
    "with urllib.request.urlopen(\"https://www.imdb.com/title/tt4172430/\") as url:\n",
    "    page = url.read()"
   ]
  },
  {
   "cell_type": "code",
   "execution_count": 15,
   "metadata": {},
   "outputs": [],
   "source": [
    "# Analise o html na variável 'page' e armazene-o no formato Beautiful Soup\n",
    "filme = BeautifulSoup(page, \"html.parser\")"
   ]
  },
  {
   "cell_type": "code",
   "execution_count": 51,
   "metadata": {},
   "outputs": [
    {
     "name": "stdout",
     "output_type": "stream",
     "text": [
      "7.3\n"
     ]
    }
   ],
   "source": [
    "# Coletando a informação de rating do filme \n",
    "soup_names = filme.find_all(\"span\", {\"class\": \"AggregateRatingButton__RatingScore-sc-1ll29m0-1 iTLWoV\"})\n",
    "rating = soup_names[0].string\n",
    "\n",
    "print(rating)"
   ]
  },
  {
   "cell_type": "code",
   "execution_count": 48,
   "metadata": {},
   "outputs": [
    {
     "name": "stdout",
     "output_type": "stream",
     "text": [
      "John Krasinski\n",
      "Pablo Schreiber\n",
      "James Badge Dale\n",
      "David Denman\n",
      "Dominic Fumusa\n",
      "Max Martini\n",
      "Alexia Barlier\n",
      "David Costabile\n",
      "Payman Maadi\n",
      "Matt Letscher\n",
      "Toby Stephens\n",
      "Demetrius Grosse\n",
      "David Giuntoli\n",
      "Kevin Kent\n",
      "David Furr\n",
      "Mike Moriarty\n",
      "Freddie Stroma\n",
      "Kenny Sheard\n"
     ]
    }
   ],
   "source": [
    "# Coletando as informações do elenco do filme \n",
    "soup_elenco = filme.find_all(\"a\", {\"data-testid\": \"title-cast-item__actor\"})\n",
    "\n",
    "for ator in soup_elenco:\n",
    "    print(ator.string)"
   ]
  },
  {
   "cell_type": "code",
   "execution_count": null,
   "metadata": {},
   "outputs": [],
   "source": []
  }
 ],
 "metadata": {
  "kernelspec": {
   "display_name": "Python 3",
   "language": "python",
   "name": "python3"
  },
  "language_info": {
   "codemirror_mode": {
    "name": "ipython",
    "version": 3
   },
   "file_extension": ".py",
   "mimetype": "text/x-python",
   "name": "python",
   "nbconvert_exporter": "python",
   "pygments_lexer": "ipython3",
   "version": "3.8.5"
  }
 },
 "nbformat": 4,
 "nbformat_minor": 4
}
